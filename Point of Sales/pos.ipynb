{
 "cells": [
  {
   "cell_type": "markdown",
   "metadata": {},
   "source": [
    "Point of Sales"
   ]
  },
  {
   "cell_type": "code",
   "execution_count": 1,
   "metadata": {},
   "outputs": [],
   "source": [
    "from geopy.geocoders import Nominatim\n",
    "import time\n",
    "from pprint import pprint\n",
    "import pandas as pd\n",
    "import numpy as np\n",
    "import time"
   ]
  },
  {
   "cell_type": "code",
   "execution_count": 2,
   "metadata": {},
   "outputs": [],
   "source": [
    "cities = pd.read_csv('Data/worldcities.csv')"
   ]
  },
  {
   "cell_type": "code",
   "execution_count": 3,
   "metadata": {},
   "outputs": [],
   "source": [
    "#Keep only useful columns\n",
    "cities = cities[['city', 'lat', 'lng', 'country', 'population']]\n",
    "\n",
    "#Keep only information about cities that have over 50,000 inhabithants\n",
    "cities = cities[cities.population >= 50000]\n",
    "\n",
    "cities"
   ]
  },
  {
   "cell_type": "code",
   "execution_count": 25,
   "metadata": {},
   "outputs": [],
   "source": [
    "industries_mode = [\"Nike\", \"Zara\", \"Adidas\", \"H & M\", \"Uniqlo\", \"Fila\", \"Gap\", \"Petit Bateau\", \"Reebok\", \"Aigle\", \"Benetton\", \"Celio\", \"Diesel\", \"Polo Ralph Lauren\", \"Puma\", \"Quiksilver\",  \"Lacoste\",  \"Pull & Bear\", \"Jennyfer\"]\n",
    "industries_cosmetic = [\"MAC\", \"Dior\", \"L'Oréal\", \"Clinique\", \"Maybelline\", \"Nars\", \"Laura Mercier\", \"Sephora\", \"Yves Saint Laurent\", \"Covergirl\"]\n",
    "industries_luxury = [\"Louis Vuitton\", \"Cartier\", \"Ray Ban\", \"Gucci\", \"Rolex\", \"Coach\", \"Hermès\", \"Prada\", \"Swaroski\", \"Hugo Boss\", \"Giorgio Armani\", \"Mickael Kors\"]\n",
    "industries_auto = [\"Volkswagen\", \"Toyota\", \"Renault\", \"Nissan\", \"Mitsubishi\", \"Daimler\", \"Ford\", \"Tesla\", \"General Motors\", \"Honda\", \"Fiat\", \"BWM\", \"Peugeot\", \"Mclaren\", \"Alpha Romeo\", \"Aston Martin\", \"BMW\", \"Mercedes-Benz\", \"Mini\", \"Ferrari\"]\n",
    "industries_tech = [\"Apple\", \"Microsoft\", \"Canon\", \"Samsung Electronics\", \"Alphabet\", \"AT&T\", \"Amazon\", \"Verizon Communication\", \"Facebook\", \"Alibaba\", \"Intel\", \"Softbank\", \"IBM\", \"Oracle\", \"SAP\", \"Orange\", \"Accenture\", \"Qualcomm\", \"Paypal\", \"HP\", \"Philips\", \"Adobe\", \"NVIDIA\", \"Vodafone\", \"Vivendi\", \"Capgemini\", \"Nokia\", \"Rakuten\"]\n",
    "\n",
    "industries = industries_mode + industries_cosmetic + industries_luxury + industries_auto + industries_tech\n",
    "type_industries = [\"Mode\"] * len(industries_mode) + [\"Clothing\"] * len(industries_cosmetic) + ['Luxury'] * len(industries_luxury) + ['Car'] * len(industries_auto) + [\"Tech\"] * len(industries_tech)\n",
    "\n",
    "company_db = pd.DataFrame({\"Company Name\": industries, \"Type\": type_industries})\n",
    "\n",
    "company_db"
   ]
  },
  {
   "cell_type": "code",
   "execution_count": null,
   "metadata": {},
   "outputs": [],
   "source": [
    "lst_company, lst_type_comp, lst_country, lst_city, lst_pop, lst_latitude, lst_longitude = [], [], [], [], [], [], []\n",
    "ini_time = time.time()\n",
    "for comp, type in zip(company_db['Company Name'], company_db['Type']):\n",
    "    print(round(time.time()-ini_time), comp, type, len(lst_city))\n",
    "    ini_time = time.time()\n",
    "    start_time = time.time()\n",
    "    count = 0\n",
    "    for cit, countr, popul in zip(cities.city, cities.country, cities.population): \n",
    "        try:\n",
    "            loc= comp + \",\" + cit\n",
    "\n",
    "            #making an instance of Nominatim class\n",
    "            geolocator_city = Nominatim(user_agent=\"my_request\")\n",
    "            \n",
    "            #applying geocode method to get the location\n",
    "            location = geolocator_city.geocode(loc)\n",
    "            \n",
    "            #printing address and coordinates\n",
    "            lst_latitude.append(location.latitude)\n",
    "            lst_longitude.append(location.longitude)\n",
    "            lst_company.append(comp)\n",
    "            lst_type_comp.append(type)\n",
    "            lst_country.append(countr)\n",
    "            lst_city.append(cit)\n",
    "            lst_pop.append(popul)\n",
    "            start_time = time.time()\n",
    "            count +=1\n",
    "            \n",
    "        except Exception:\n",
    "            if  time.time() - start_time > 60:\n",
    "                break\n",
    "            else:\n",
    "                pass\n",
    " \n",
    "pos_db = pd.DataFrame({\n",
    "    \"Company\": lst_company,\n",
    "    \"Type\": lst_type_comp,\n",
    "    \"Country\": lst_country,\n",
    "    \"City\": lst_city,\n",
    "    \"Population\": lst_pop,\n",
    "    \"Latitude\": lst_latitude,\n",
    "    \"Longitude\": lst_longitude,\n",
    "})\n",
    "\n",
    "pos_db.to_csv(\"Data/point_of_sale_db.csv\")"
   ]
  },
  {
   "cell_type": "code",
   "execution_count": 44,
   "metadata": {},
   "outputs": [
    {
     "data": {
      "text/html": [
       "<div>\n",
       "<style scoped>\n",
       "    .dataframe tbody tr th:only-of-type {\n",
       "        vertical-align: middle;\n",
       "    }\n",
       "\n",
       "    .dataframe tbody tr th {\n",
       "        vertical-align: top;\n",
       "    }\n",
       "\n",
       "    .dataframe thead th {\n",
       "        text-align: right;\n",
       "    }\n",
       "</style>\n",
       "<table border=\"1\" class=\"dataframe\">\n",
       "  <thead>\n",
       "    <tr style=\"text-align: right;\">\n",
       "      <th></th>\n",
       "      <th>Unnamed: 0</th>\n",
       "      <th>Unnamed: 0.1</th>\n",
       "      <th>Company</th>\n",
       "      <th>Type</th>\n",
       "      <th>Country</th>\n",
       "      <th>City</th>\n",
       "      <th>Population</th>\n",
       "      <th>Latitude</th>\n",
       "      <th>Longitude</th>\n",
       "    </tr>\n",
       "  </thead>\n",
       "  <tbody>\n",
       "    <tr>\n",
       "      <th>0</th>\n",
       "      <td>0</td>\n",
       "      <td>0</td>\n",
       "      <td>Nike</td>\n",
       "      <td>Mode</td>\n",
       "      <td>Japan</td>\n",
       "      <td>Tokyo</td>\n",
       "      <td>37977000.0</td>\n",
       "      <td>35.705617</td>\n",
       "      <td>139.576935</td>\n",
       "    </tr>\n",
       "    <tr>\n",
       "      <th>1</th>\n",
       "      <td>1</td>\n",
       "      <td>1</td>\n",
       "      <td>Nike</td>\n",
       "      <td>Mode</td>\n",
       "      <td>Indonesia</td>\n",
       "      <td>Jakarta</td>\n",
       "      <td>34540000.0</td>\n",
       "      <td>-6.265635</td>\n",
       "      <td>106.783054</td>\n",
       "    </tr>\n",
       "    <tr>\n",
       "      <th>2</th>\n",
       "      <td>2</td>\n",
       "      <td>2</td>\n",
       "      <td>Nike</td>\n",
       "      <td>Mode</td>\n",
       "      <td>India</td>\n",
       "      <td>Delhi</td>\n",
       "      <td>29617000.0</td>\n",
       "      <td>28.557346</td>\n",
       "      <td>77.163798</td>\n",
       "    </tr>\n",
       "    <tr>\n",
       "      <th>3</th>\n",
       "      <td>3</td>\n",
       "      <td>3</td>\n",
       "      <td>Nike</td>\n",
       "      <td>Mode</td>\n",
       "      <td>India</td>\n",
       "      <td>Mumbai</td>\n",
       "      <td>23355000.0</td>\n",
       "      <td>19.136268</td>\n",
       "      <td>72.829615</td>\n",
       "    </tr>\n",
       "    <tr>\n",
       "      <th>4</th>\n",
       "      <td>4</td>\n",
       "      <td>4</td>\n",
       "      <td>Nike</td>\n",
       "      <td>Mode</td>\n",
       "      <td>Philippines</td>\n",
       "      <td>Manila</td>\n",
       "      <td>23088000.0</td>\n",
       "      <td>14.652022</td>\n",
       "      <td>121.075537</td>\n",
       "    </tr>\n",
       "  </tbody>\n",
       "</table>\n",
       "</div>"
      ],
      "text/plain": [
       "   Unnamed: 0  Unnamed: 0.1 Company  Type      Country     City  Population  \\\n",
       "0           0             0    Nike  Mode        Japan    Tokyo  37977000.0   \n",
       "1           1             1    Nike  Mode    Indonesia  Jakarta  34540000.0   \n",
       "2           2             2    Nike  Mode        India    Delhi  29617000.0   \n",
       "3           3             3    Nike  Mode        India   Mumbai  23355000.0   \n",
       "4           4             4    Nike  Mode  Philippines   Manila  23088000.0   \n",
       "\n",
       "    Latitude   Longitude  \n",
       "0  35.705617  139.576935  \n",
       "1  -6.265635  106.783054  \n",
       "2  28.557346   77.163798  \n",
       "3  19.136268   72.829615  \n",
       "4  14.652022  121.075537  "
      ]
     },
     "execution_count": 44,
     "metadata": {},
     "output_type": "execute_result"
    }
   ],
   "source": [
    "pos_db[['Company', 'Type', 'Country', 'City', 'Population', 'Latitude', 'Longitude']].head()"
   ]
  },
  {
   "cell_type": "code",
   "execution_count": 16,
   "metadata": {},
   "outputs": [
    {
     "name": "stdout",
     "output_type": "stream",
     "text": [
      "Number of POS: 5213\n"
     ]
    }
   ],
   "source": [
    "print('Number of POS:', len(pos_db))"
   ]
  },
  {
   "cell_type": "code",
   "execution_count": 29,
   "metadata": {},
   "outputs": [
    {
     "name": "stdout",
     "output_type": "stream",
     "text": [
      "Number of Countries: 82\n"
     ]
    }
   ],
   "source": [
    "print('Number of Countries:', len(np.unique(pos_db['Country'])))"
   ]
  },
  {
   "cell_type": "code",
   "execution_count": 28,
   "metadata": {},
   "outputs": [
    {
     "name": "stdout",
     "output_type": "stream",
     "text": [
      "Number of Cities: 422\n"
     ]
    }
   ],
   "source": [
    "print('Number of Cities:', len(np.unique(pos_db['City'])))"
   ]
  },
  {
   "cell_type": "code",
   "execution_count": 30,
   "metadata": {},
   "outputs": [
    {
     "name": "stdout",
     "output_type": "stream",
     "text": [
      "Number of Companies: 80\n"
     ]
    }
   ],
   "source": [
    "print('Number of Companies:', len(np.unique(pos_db['Company'])))"
   ]
  },
  {
   "cell_type": "code",
   "execution_count": 31,
   "metadata": {},
   "outputs": [
    {
     "name": "stdout",
     "output_type": "stream",
     "text": [
      "Type of Companies: {'Car', 'Cosmetic', 'Luxury', 'Tech', 'Mode'} - 5\n"
     ]
    }
   ],
   "source": [
    "print('Type of Companies:', set(pos_db['Type']), \"-\", len(np.unique(pos_db['Type'])))"
   ]
  }
 ],
 "metadata": {
  "interpreter": {
   "hash": "94de380bec5e91c66679baa2ae2202e5802e7a70ff8ebe93211e78af79bebae8"
  },
  "kernelspec": {
   "display_name": "Python 3.8.8 64-bit ('base': conda)",
   "language": "python",
   "name": "python3"
  },
  "language_info": {
   "codemirror_mode": {
    "name": "ipython",
    "version": 3
   },
   "file_extension": ".py",
   "mimetype": "text/x-python",
   "name": "python",
   "nbconvert_exporter": "python",
   "pygments_lexer": "ipython3",
   "version": "3.8.8"
  },
  "orig_nbformat": 4
 },
 "nbformat": 4,
 "nbformat_minor": 2
}
