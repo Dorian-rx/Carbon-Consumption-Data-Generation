{
 "cells": [
  {
   "cell_type": "markdown",
   "metadata": {},
   "source": [
    "# <div align=\"center\"> Carbon Impact - Data Analysis </div>"
   ]
  },
  {
   "cell_type": "markdown",
   "metadata": {},
   "source": [
    "<div align=\"center\"> ROULET Maria Paula | ROUX Dorian - Bachelor 4</div>"
   ]
  },
  {
   "cell_type": "markdown",
   "metadata": {},
   "source": [
    "---"
   ]
  },
  {
   "cell_type": "markdown",
   "metadata": {},
   "source": [
    "### Libraries"
   ]
  },
  {
   "cell_type": "code",
   "execution_count": 1,
   "metadata": {},
   "outputs": [],
   "source": [
    "import numpy as np\n",
    "import random\n",
    "import pandas as pd\n",
    "import seaborn as sns\n",
    "import datetime\n",
    "import matplotlib.pyplot as plt\n",
    "import warnings\n",
    "\n",
    "warnings.filterwarnings(\"ignore\")"
   ]
  },
  {
   "cell_type": "markdown",
   "metadata": {},
   "source": [
    "### Read Data Files"
   ]
  },
  {
   "cell_type": "code",
   "execution_count": 5,
   "metadata": {},
   "outputs": [
    {
     "data": {
      "text/html": [
       "<div>\n",
       "<style scoped>\n",
       "    .dataframe tbody tr th:only-of-type {\n",
       "        vertical-align: middle;\n",
       "    }\n",
       "\n",
       "    .dataframe tbody tr th {\n",
       "        vertical-align: top;\n",
       "    }\n",
       "\n",
       "    .dataframe thead th {\n",
       "        text-align: right;\n",
       "    }\n",
       "</style>\n",
       "<table border=\"1\" class=\"dataframe\">\n",
       "  <thead>\n",
       "    <tr style=\"text-align: right;\">\n",
       "      <th></th>\n",
       "      <th>Employee ID</th>\n",
       "      <th>Full Date</th>\n",
       "      <th>Year</th>\n",
       "      <th>Month</th>\n",
       "      <th>Day</th>\n",
       "      <th>Weekday</th>\n",
       "      <th>Time</th>\n",
       "      <th>App</th>\n",
       "      <th>Action Type</th>\n",
       "      <th>Time Spent</th>\n",
       "      <th>App Carbon Impact</th>\n",
       "      <th>Daily Consumption</th>\n",
       "      <th>Level of Carbon Consumption</th>\n",
       "    </tr>\n",
       "  </thead>\n",
       "  <tbody>\n",
       "    <tr>\n",
       "      <th>192747</th>\n",
       "      <td>7</td>\n",
       "      <td>2021-02-01 17:27:00</td>\n",
       "      <td>2021</td>\n",
       "      <td>2</td>\n",
       "      <td>1</td>\n",
       "      <td>Monday</td>\n",
       "      <td>17:27:00</td>\n",
       "      <td>No Carbon App Used</td>\n",
       "      <td>No Carbon Action</td>\n",
       "      <td>4</td>\n",
       "      <td>0.0</td>\n",
       "      <td>64.648</td>\n",
       "      <td>Medium-Low Carbon Consumption</td>\n",
       "    </tr>\n",
       "    <tr>\n",
       "      <th>280844</th>\n",
       "      <td>10</td>\n",
       "      <td>2021-01-30 13:38:00</td>\n",
       "      <td>2021</td>\n",
       "      <td>1</td>\n",
       "      <td>30</td>\n",
       "      <td>Saturday</td>\n",
       "      <td>13:38:00</td>\n",
       "      <td>No Computer Access</td>\n",
       "      <td>Day Off</td>\n",
       "      <td>279</td>\n",
       "      <td>0.0</td>\n",
       "      <td>35.902</td>\n",
       "      <td>Medium-Low Carbon Consumption</td>\n",
       "    </tr>\n",
       "    <tr>\n",
       "      <th>34711</th>\n",
       "      <td>2</td>\n",
       "      <td>2021-01-09 17:56:00</td>\n",
       "      <td>2021</td>\n",
       "      <td>1</td>\n",
       "      <td>9</td>\n",
       "      <td>Saturday</td>\n",
       "      <td>17:56:00</td>\n",
       "      <td>No Computer Access</td>\n",
       "      <td>Day Off</td>\n",
       "      <td>537</td>\n",
       "      <td>0.0</td>\n",
       "      <td>50.960</td>\n",
       "      <td>Medium-Low Carbon Consumption</td>\n",
       "    </tr>\n",
       "    <tr>\n",
       "      <th>303215</th>\n",
       "      <td>11</td>\n",
       "      <td>2021-01-17 16:28:00</td>\n",
       "      <td>2021</td>\n",
       "      <td>1</td>\n",
       "      <td>17</td>\n",
       "      <td>Sunday</td>\n",
       "      <td>16:28:00</td>\n",
       "      <td>No Computer Access</td>\n",
       "      <td>Day Off</td>\n",
       "      <td>449</td>\n",
       "      <td>0.0</td>\n",
       "      <td>105.300</td>\n",
       "      <td>Medium-Low Carbon Consumption</td>\n",
       "    </tr>\n",
       "    <tr>\n",
       "      <th>25769</th>\n",
       "      <td>1</td>\n",
       "      <td>2021-02-21 10:20:00</td>\n",
       "      <td>2021</td>\n",
       "      <td>2</td>\n",
       "      <td>21</td>\n",
       "      <td>Sunday</td>\n",
       "      <td>10:20:00</td>\n",
       "      <td>No Computer Access</td>\n",
       "      <td>Day Off</td>\n",
       "      <td>81</td>\n",
       "      <td>0.0</td>\n",
       "      <td>69.270</td>\n",
       "      <td>Medium-High Carbon Consumption</td>\n",
       "    </tr>\n",
       "  </tbody>\n",
       "</table>\n",
       "</div>"
      ],
      "text/plain": [
       "        Employee ID            Full Date  Year  Month  Day   Weekday  \\\n",
       "192747            7  2021-02-01 17:27:00  2021      2    1    Monday   \n",
       "280844           10  2021-01-30 13:38:00  2021      1   30  Saturday   \n",
       "34711             2  2021-01-09 17:56:00  2021      1    9  Saturday   \n",
       "303215           11  2021-01-17 16:28:00  2021      1   17    Sunday   \n",
       "25769             1  2021-02-21 10:20:00  2021      2   21    Sunday   \n",
       "\n",
       "            Time                 App       Action Type  Time Spent  \\\n",
       "192747  17:27:00  No Carbon App Used  No Carbon Action           4   \n",
       "280844  13:38:00  No Computer Access           Day Off         279   \n",
       "34711   17:56:00  No Computer Access           Day Off         537   \n",
       "303215  16:28:00  No Computer Access           Day Off         449   \n",
       "25769   10:20:00  No Computer Access           Day Off          81   \n",
       "\n",
       "        App Carbon Impact  Daily Consumption     Level of Carbon Consumption  \n",
       "192747                0.0             64.648   Medium-Low Carbon Consumption  \n",
       "280844                0.0             35.902   Medium-Low Carbon Consumption  \n",
       "34711                 0.0             50.960   Medium-Low Carbon Consumption  \n",
       "303215                0.0            105.300   Medium-Low Carbon Consumption  \n",
       "25769                 0.0             69.270  Medium-High Carbon Consumption  "
      ]
     },
     "execution_count": 5,
     "metadata": {},
     "output_type": "execute_result"
    }
   ],
   "source": [
    "Use_App = pd.read_csv(\"Data/time_apps3m.csv\", delimiter=',', index_col=0)\n",
    "Use_App.sample(5)"
   ]
  },
  {
   "cell_type": "code",
   "execution_count": 6,
   "metadata": {},
   "outputs": [
    {
     "data": {
      "text/html": [
       "<div>\n",
       "<style scoped>\n",
       "    .dataframe tbody tr th:only-of-type {\n",
       "        vertical-align: middle;\n",
       "    }\n",
       "\n",
       "    .dataframe tbody tr th {\n",
       "        vertical-align: top;\n",
       "    }\n",
       "\n",
       "    .dataframe thead th {\n",
       "        text-align: right;\n",
       "    }\n",
       "</style>\n",
       "<table border=\"1\" class=\"dataframe\">\n",
       "  <thead>\n",
       "    <tr style=\"text-align: right;\">\n",
       "      <th></th>\n",
       "      <th>Level of Carbon Consumption</th>\n",
       "      <th>App Carbon Impact</th>\n",
       "    </tr>\n",
       "  </thead>\n",
       "  <tbody>\n",
       "    <tr>\n",
       "      <th>0</th>\n",
       "      <td>High Carbon Consumption</td>\n",
       "      <td>14616.889</td>\n",
       "    </tr>\n",
       "    <tr>\n",
       "      <th>1</th>\n",
       "      <td>Medium-High Carbon Consumption</td>\n",
       "      <td>19298.686</td>\n",
       "    </tr>\n",
       "    <tr>\n",
       "      <th>2</th>\n",
       "      <td>Medium-Low Carbon Consumption</td>\n",
       "      <td>31974.382</td>\n",
       "    </tr>\n",
       "  </tbody>\n",
       "</table>\n",
       "</div>"
      ],
      "text/plain": [
       "      Level of Carbon Consumption  App Carbon Impact\n",
       "0         High Carbon Consumption          14616.889\n",
       "1  Medium-High Carbon Consumption          19298.686\n",
       "2   Medium-Low Carbon Consumption          31974.382"
      ]
     },
     "execution_count": 6,
     "metadata": {},
     "output_type": "execute_result"
    }
   ],
   "source": [
    "Use_App.groupby(['Level of Carbon Consumption'])['App Carbon Impact'].sum().reset_index()"
   ]
  }
 ],
 "metadata": {
  "interpreter": {
   "hash": "94de380bec5e91c66679baa2ae2202e5802e7a70ff8ebe93211e78af79bebae8"
  },
  "kernelspec": {
   "display_name": "Python 3.8.8 64-bit ('base': conda)",
   "language": "python",
   "name": "python3"
  },
  "language_info": {
   "codemirror_mode": {
    "name": "ipython",
    "version": 3
   },
   "file_extension": ".py",
   "mimetype": "text/x-python",
   "name": "python",
   "nbconvert_exporter": "python",
   "pygments_lexer": "ipython3",
   "version": "3.8.8"
  },
  "orig_nbformat": 4
 },
 "nbformat": 4,
 "nbformat_minor": 2
}
