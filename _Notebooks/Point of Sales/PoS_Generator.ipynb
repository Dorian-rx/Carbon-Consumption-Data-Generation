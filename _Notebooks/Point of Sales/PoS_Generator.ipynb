{
 "cells": [
  {
   "cell_type": "markdown",
   "metadata": {},
   "source": [
    "Point of Sales"
   ]
  },
  {
   "cell_type": "code",
   "execution_count": 1,
   "metadata": {},
   "outputs": [],
   "source": [
    "from geopy.geocoders import Nominatim\n",
    "import time\n",
    "from pprint import pprint\n",
    "import pandas as pd\n",
    "import numpy as np\n",
    "import time"
   ]
  },
  {
   "cell_type": "code",
   "execution_count": 44,
   "metadata": {},
   "outputs": [],
   "source": [
    "cities = pd.read_csv('Data/worldcities.csv')"
   ]
  },
  {
   "cell_type": "code",
   "execution_count": 45,
   "metadata": {},
   "outputs": [
    {
     "data": {
      "text/html": [
       "<div>\n",
       "<style scoped>\n",
       "    .dataframe tbody tr th:only-of-type {\n",
       "        vertical-align: middle;\n",
       "    }\n",
       "\n",
       "    .dataframe tbody tr th {\n",
       "        vertical-align: top;\n",
       "    }\n",
       "\n",
       "    .dataframe thead th {\n",
       "        text-align: right;\n",
       "    }\n",
       "</style>\n",
       "<table border=\"1\" class=\"dataframe\">\n",
       "  <thead>\n",
       "    <tr style=\"text-align: right;\">\n",
       "      <th></th>\n",
       "      <th>city</th>\n",
       "      <th>lat</th>\n",
       "      <th>lng</th>\n",
       "      <th>country</th>\n",
       "      <th>population</th>\n",
       "    </tr>\n",
       "  </thead>\n",
       "  <tbody>\n",
       "    <tr>\n",
       "      <th>0</th>\n",
       "      <td>Tokyo</td>\n",
       "      <td>35.6897</td>\n",
       "      <td>139.6922</td>\n",
       "      <td>Japan</td>\n",
       "      <td>37977000.0</td>\n",
       "    </tr>\n",
       "    <tr>\n",
       "      <th>1</th>\n",
       "      <td>Jakarta</td>\n",
       "      <td>-6.2146</td>\n",
       "      <td>106.8451</td>\n",
       "      <td>Indonesia</td>\n",
       "      <td>34540000.0</td>\n",
       "    </tr>\n",
       "    <tr>\n",
       "      <th>2</th>\n",
       "      <td>Delhi</td>\n",
       "      <td>28.6600</td>\n",
       "      <td>77.2300</td>\n",
       "      <td>India</td>\n",
       "      <td>29617000.0</td>\n",
       "    </tr>\n",
       "    <tr>\n",
       "      <th>3</th>\n",
       "      <td>Mumbai</td>\n",
       "      <td>18.9667</td>\n",
       "      <td>72.8333</td>\n",
       "      <td>India</td>\n",
       "      <td>23355000.0</td>\n",
       "    </tr>\n",
       "    <tr>\n",
       "      <th>4</th>\n",
       "      <td>Manila</td>\n",
       "      <td>14.6000</td>\n",
       "      <td>120.9833</td>\n",
       "      <td>Philippines</td>\n",
       "      <td>23088000.0</td>\n",
       "    </tr>\n",
       "    <tr>\n",
       "      <th>...</th>\n",
       "      <td>...</td>\n",
       "      <td>...</td>\n",
       "      <td>...</td>\n",
       "      <td>...</td>\n",
       "      <td>...</td>\n",
       "    </tr>\n",
       "    <tr>\n",
       "      <th>12860</th>\n",
       "      <td>Sardasht</td>\n",
       "      <td>36.1553</td>\n",
       "      <td>45.4789</td>\n",
       "      <td>Iran</td>\n",
       "      <td>50000.0</td>\n",
       "    </tr>\n",
       "    <tr>\n",
       "      <th>12861</th>\n",
       "      <td>Buluan</td>\n",
       "      <td>6.7154</td>\n",
       "      <td>124.7854</td>\n",
       "      <td>Philippines</td>\n",
       "      <td>50008.0</td>\n",
       "    </tr>\n",
       "    <tr>\n",
       "      <th>12864</th>\n",
       "      <td>Shawinigan</td>\n",
       "      <td>46.5667</td>\n",
       "      <td>-72.7500</td>\n",
       "      <td>Canada</td>\n",
       "      <td>50060.0</td>\n",
       "    </tr>\n",
       "    <tr>\n",
       "      <th>12867</th>\n",
       "      <td>Kahemba</td>\n",
       "      <td>-7.2829</td>\n",
       "      <td>19.0000</td>\n",
       "      <td>Congo (Kinshasa)</td>\n",
       "      <td>50000.0</td>\n",
       "    </tr>\n",
       "    <tr>\n",
       "      <th>12869</th>\n",
       "      <td>Abū Ḩamad</td>\n",
       "      <td>19.5370</td>\n",
       "      <td>33.3260</td>\n",
       "      <td>Sudan</td>\n",
       "      <td>50000.0</td>\n",
       "    </tr>\n",
       "  </tbody>\n",
       "</table>\n",
       "<p>8386 rows × 5 columns</p>\n",
       "</div>"
      ],
      "text/plain": [
       "             city      lat       lng           country  population\n",
       "0           Tokyo  35.6897  139.6922             Japan  37977000.0\n",
       "1         Jakarta  -6.2146  106.8451         Indonesia  34540000.0\n",
       "2           Delhi  28.6600   77.2300             India  29617000.0\n",
       "3          Mumbai  18.9667   72.8333             India  23355000.0\n",
       "4          Manila  14.6000  120.9833       Philippines  23088000.0\n",
       "...           ...      ...       ...               ...         ...\n",
       "12860    Sardasht  36.1553   45.4789              Iran     50000.0\n",
       "12861      Buluan   6.7154  124.7854       Philippines     50008.0\n",
       "12864  Shawinigan  46.5667  -72.7500            Canada     50060.0\n",
       "12867     Kahemba  -7.2829   19.0000  Congo (Kinshasa)     50000.0\n",
       "12869   Abū Ḩamad  19.5370   33.3260             Sudan     50000.0\n",
       "\n",
       "[8386 rows x 5 columns]"
      ]
     },
     "execution_count": 45,
     "metadata": {},
     "output_type": "execute_result"
    }
   ],
   "source": [
    "#Keep only useful columns\n",
    "cities = cities[['city', 'lat', 'lng', 'country', 'population']]\n",
    "\n",
    "#Keep only information about cities that have over 50,000 inhabithants\n",
    "cities = cities[cities.population >= 50000]\n",
    "\n",
    "cities"
   ]
  },
  {
   "cell_type": "code",
   "execution_count": 46,
   "metadata": {},
   "outputs": [
    {
     "data": {
      "text/html": [
       "<div>\n",
       "<style scoped>\n",
       "    .dataframe tbody tr th:only-of-type {\n",
       "        vertical-align: middle;\n",
       "    }\n",
       "\n",
       "    .dataframe tbody tr th {\n",
       "        vertical-align: top;\n",
       "    }\n",
       "\n",
       "    .dataframe thead th {\n",
       "        text-align: right;\n",
       "    }\n",
       "</style>\n",
       "<table border=\"1\" class=\"dataframe\">\n",
       "  <thead>\n",
       "    <tr style=\"text-align: right;\">\n",
       "      <th></th>\n",
       "      <th>Company Name</th>\n",
       "      <th>Type</th>\n",
       "    </tr>\n",
       "  </thead>\n",
       "  <tbody>\n",
       "    <tr>\n",
       "      <th>0</th>\n",
       "      <td>Nike</td>\n",
       "      <td>Mode</td>\n",
       "    </tr>\n",
       "    <tr>\n",
       "      <th>1</th>\n",
       "      <td>Zara</td>\n",
       "      <td>Mode</td>\n",
       "    </tr>\n",
       "    <tr>\n",
       "      <th>2</th>\n",
       "      <td>Adidas</td>\n",
       "      <td>Mode</td>\n",
       "    </tr>\n",
       "    <tr>\n",
       "      <th>3</th>\n",
       "      <td>H &amp; M</td>\n",
       "      <td>Mode</td>\n",
       "    </tr>\n",
       "    <tr>\n",
       "      <th>4</th>\n",
       "      <td>Uniqlo</td>\n",
       "      <td>Mode</td>\n",
       "    </tr>\n",
       "  </tbody>\n",
       "</table>\n",
       "</div>"
      ],
      "text/plain": [
       "  Company Name  Type\n",
       "0         Nike  Mode\n",
       "1         Zara  Mode\n",
       "2       Adidas  Mode\n",
       "3        H & M  Mode\n",
       "4       Uniqlo  Mode"
      ]
     },
     "execution_count": 46,
     "metadata": {},
     "output_type": "execute_result"
    }
   ],
   "source": [
    "#Define lists of companies from different sectors and their type\n",
    "industries_mode = [\"Nike\", \"Zara\", \"Adidas\", \"H & M\", \"Uniqlo\", \"Fila\", \"Gap\", \"Petit Bateau\", \"Reebok\", \"Aigle\", \"Benetton\", \"Celio\", \"Diesel\", \"Polo Ralph Lauren\", \"Puma\", \"Quiksilver\",  \"Lacoste\",  \"Pull & Bear\", \"Jennyfer\"]\n",
    "industries_cosmetic = [\"MAC\", \"Dior\", \"L'Oréal\", \"Clinique\", \"Maybelline\", \"Nars\", \"Laura Mercier\", \"Sephora\", \"Yves Saint Laurent\", \"Covergirl\"]\n",
    "industries_luxury = [\"Louis Vuitton\", \"Cartier\", \"Ray Ban\", \"Gucci\", \"Rolex\", \"Coach\", \"Hermès\", \"Prada\", \"Swaroski\", \"Hugo Boss\", \"Giorgio Armani\", \"Mickael Kors\"]\n",
    "industries_auto = [\"Volkswagen\", \"Toyota\", \"Renault\", \"Nissan\", \"Mitsubishi\", \"Daimler\", \"Ford\", \"Tesla\", \"General Motors\", \"Honda\", \"Fiat\", \"BWM\", \"Peugeot\", \"Mclaren\", \"Alpha Romeo\", \"Aston Martin\", \"BMW\", \"Mercedes-Benz\", \"Mini\", \"Ferrari\"]\n",
    "industries_tech = [\"Apple\", \"Microsoft\", \"Canon\", \"Samsung Electronics\", \"Alphabet\", \"AT&T\", \"Amazon\", \"Verizon Communication\", \"Facebook\", \"Alibaba\", \"Intel\", \"Softbank\", \"IBM\", \"Oracle\", \"SAP\", \"Orange\", \"Accenture\", \"Qualcomm\", \"Paypal\", \"HP\", \"Philips\", \"Adobe\", \"NVIDIA\", \"Vodafone\", \"Vivendi\", \"Capgemini\", \"Nokia\", \"Rakuten\"]\n",
    "all_industries = industries_mode + industries_cosmetic + industries_luxury + industries_auto + industries_tech\n",
    "type_industries = [\"Mode\"] * len(industries_mode) + [\"Cosmetic\"] * len(industries_cosmetic) + ['Luxury'] * len(industries_luxury) + ['Car'] * len(industries_auto) + [\"Tech\"] * len(industries_tech)\n",
    "\n",
    "company_db = pd.DataFrame({\"Company Name\": all_industries, \"Type\": type_industries}) #Transform the companies information into a Dataframe\n",
    "company_db.head(5)"
   ]
  },
  {
   "cell_type": "code",
   "execution_count": null,
   "metadata": {},
   "outputs": [],
   "source": [
    "lst_company, lst_type_comp, lst_country, lst_city, lst_pop, lst_latitude, lst_longitude = [], [], [], [], [], [], []\n",
    "ini_time = time.time()\n",
    "for comp, type in zip(company_db['Company Name'], company_db['Type']):\n",
    "    print(round(time.time()-ini_time), comp, type, len(lst_city))\n",
    "    ini_time = time.time()\n",
    "    start_time = time.time()\n",
    "    count = 0\n",
    "    for cit, countr, popul in zip(cities.city, cities.country, cities.population): \n",
    "        try:\n",
    "            loc= comp + \",\" + cit\n",
    "\n",
    "            #making an instance of Nominatim class\n",
    "            geolocator_city = Nominatim(user_agent=\"my_request\")\n",
    "            \n",
    "            #applying geocode method to get the location\n",
    "            location = geolocator_city.geocode(loc)\n",
    "            \n",
    "            #printing address and coordinates\n",
    "            lst_latitude.append(location.latitude)\n",
    "            lst_longitude.append(location.longitude)\n",
    "            lst_company.append(comp)\n",
    "            lst_type_comp.append(type)\n",
    "            lst_country.append(countr)\n",
    "            lst_city.append(cit)\n",
    "            lst_pop.append(popul)\n",
    "            start_time = time.time()\n",
    "            count +=1\n",
    "            \n",
    "        except Exception:\n",
    "            if  time.time() - start_time > 60:\n",
    "                break\n",
    "            else:\n",
    "                pass\n",
    " \n",
    "pos_db = pd.DataFrame({\n",
    "    \"Company\": lst_company,\n",
    "    \"Type\": lst_type_comp,\n",
    "    \"Country\": lst_country,\n",
    "    \"City\": lst_city,\n",
    "    \"Population\": lst_pop,\n",
    "    \"Latitude\": lst_latitude,\n",
    "    \"Longitude\": lst_longitude,\n",
    "})\n",
    "\n",
    "pos_db.to_csv(\"Data/point_of_sale_db.csv\")"
   ]
  },
  {
   "cell_type": "code",
   "execution_count": 44,
   "metadata": {},
   "outputs": [
    {
     "data": {
      "text/html": [
       "<div>\n",
       "<style scoped>\n",
       "    .dataframe tbody tr th:only-of-type {\n",
       "        vertical-align: middle;\n",
       "    }\n",
       "\n",
       "    .dataframe tbody tr th {\n",
       "        vertical-align: top;\n",
       "    }\n",
       "\n",
       "    .dataframe thead th {\n",
       "        text-align: right;\n",
       "    }\n",
       "</style>\n",
       "<table border=\"1\" class=\"dataframe\">\n",
       "  <thead>\n",
       "    <tr style=\"text-align: right;\">\n",
       "      <th></th>\n",
       "      <th>Unnamed: 0</th>\n",
       "      <th>Unnamed: 0.1</th>\n",
       "      <th>Company</th>\n",
       "      <th>Type</th>\n",
       "      <th>Country</th>\n",
       "      <th>City</th>\n",
       "      <th>Population</th>\n",
       "      <th>Latitude</th>\n",
       "      <th>Longitude</th>\n",
       "    </tr>\n",
       "  </thead>\n",
       "  <tbody>\n",
       "    <tr>\n",
       "      <th>0</th>\n",
       "      <td>0</td>\n",
       "      <td>0</td>\n",
       "      <td>Nike</td>\n",
       "      <td>Mode</td>\n",
       "      <td>Japan</td>\n",
       "      <td>Tokyo</td>\n",
       "      <td>37977000.0</td>\n",
       "      <td>35.705617</td>\n",
       "      <td>139.576935</td>\n",
       "    </tr>\n",
       "    <tr>\n",
       "      <th>1</th>\n",
       "      <td>1</td>\n",
       "      <td>1</td>\n",
       "      <td>Nike</td>\n",
       "      <td>Mode</td>\n",
       "      <td>Indonesia</td>\n",
       "      <td>Jakarta</td>\n",
       "      <td>34540000.0</td>\n",
       "      <td>-6.265635</td>\n",
       "      <td>106.783054</td>\n",
       "    </tr>\n",
       "    <tr>\n",
       "      <th>2</th>\n",
       "      <td>2</td>\n",
       "      <td>2</td>\n",
       "      <td>Nike</td>\n",
       "      <td>Mode</td>\n",
       "      <td>India</td>\n",
       "      <td>Delhi</td>\n",
       "      <td>29617000.0</td>\n",
       "      <td>28.557346</td>\n",
       "      <td>77.163798</td>\n",
       "    </tr>\n",
       "    <tr>\n",
       "      <th>3</th>\n",
       "      <td>3</td>\n",
       "      <td>3</td>\n",
       "      <td>Nike</td>\n",
       "      <td>Mode</td>\n",
       "      <td>India</td>\n",
       "      <td>Mumbai</td>\n",
       "      <td>23355000.0</td>\n",
       "      <td>19.136268</td>\n",
       "      <td>72.829615</td>\n",
       "    </tr>\n",
       "    <tr>\n",
       "      <th>4</th>\n",
       "      <td>4</td>\n",
       "      <td>4</td>\n",
       "      <td>Nike</td>\n",
       "      <td>Mode</td>\n",
       "      <td>Philippines</td>\n",
       "      <td>Manila</td>\n",
       "      <td>23088000.0</td>\n",
       "      <td>14.652022</td>\n",
       "      <td>121.075537</td>\n",
       "    </tr>\n",
       "  </tbody>\n",
       "</table>\n",
       "</div>"
      ],
      "text/plain": [
       "   Unnamed: 0  Unnamed: 0.1 Company  Type      Country     City  Population  \\\n",
       "0           0             0    Nike  Mode        Japan    Tokyo  37977000.0   \n",
       "1           1             1    Nike  Mode    Indonesia  Jakarta  34540000.0   \n",
       "2           2             2    Nike  Mode        India    Delhi  29617000.0   \n",
       "3           3             3    Nike  Mode        India   Mumbai  23355000.0   \n",
       "4           4             4    Nike  Mode  Philippines   Manila  23088000.0   \n",
       "\n",
       "    Latitude   Longitude  \n",
       "0  35.705617  139.576935  \n",
       "1  -6.265635  106.783054  \n",
       "2  28.557346   77.163798  \n",
       "3  19.136268   72.829615  \n",
       "4  14.652022  121.075537  "
      ]
     },
     "execution_count": 44,
     "metadata": {},
     "output_type": "execute_result"
    }
   ],
   "source": [
    "pos_db[['Company', 'Type', 'Country', 'City', 'Population', 'Latitude', 'Longitude']].head()"
   ]
  },
  {
   "cell_type": "code",
   "execution_count": 16,
   "metadata": {},
   "outputs": [
    {
     "name": "stdout",
     "output_type": "stream",
     "text": [
      "Number of POS: 5213\n"
     ]
    }
   ],
   "source": [
    "print('Number of POS:', len(pos_db))"
   ]
  },
  {
   "cell_type": "code",
   "execution_count": 29,
   "metadata": {},
   "outputs": [
    {
     "name": "stdout",
     "output_type": "stream",
     "text": [
      "Number of Countries: 82\n"
     ]
    }
   ],
   "source": [
    "print('Number of Countries:', len(np.unique(pos_db['Country'])))"
   ]
  },
  {
   "cell_type": "code",
   "execution_count": 28,
   "metadata": {},
   "outputs": [
    {
     "name": "stdout",
     "output_type": "stream",
     "text": [
      "Number of Cities: 422\n"
     ]
    }
   ],
   "source": [
    "print('Number of Cities:', len(np.unique(pos_db['City'])))"
   ]
  },
  {
   "cell_type": "code",
   "execution_count": 30,
   "metadata": {},
   "outputs": [
    {
     "name": "stdout",
     "output_type": "stream",
     "text": [
      "Number of Companies: 80\n"
     ]
    }
   ],
   "source": [
    "print('Number of Companies:', len(np.unique(pos_db['Company'])))"
   ]
  },
  {
   "cell_type": "code",
   "execution_count": 31,
   "metadata": {},
   "outputs": [
    {
     "name": "stdout",
     "output_type": "stream",
     "text": [
      "Type of Companies: {'Car', 'Cosmetic', 'Luxury', 'Tech', 'Mode'} - 5\n"
     ]
    }
   ],
   "source": [
    "print('Type of Companies:', set(pos_db['Type']), \"-\", len(np.unique(pos_db['Type'])))"
   ]
  }
 ],
 "metadata": {
  "interpreter": {
   "hash": "94de380bec5e91c66679baa2ae2202e5802e7a70ff8ebe93211e78af79bebae8"
  },
  "kernelspec": {
   "display_name": "Python 3.8.8 64-bit ('base': conda)",
   "language": "python",
   "name": "python3"
  },
  "language_info": {
   "codemirror_mode": {
    "name": "ipython",
    "version": 3
   },
   "file_extension": ".py",
   "mimetype": "text/x-python",
   "name": "python",
   "nbconvert_exporter": "python",
   "pygments_lexer": "ipython3",
   "version": "3.8.8"
  },
  "orig_nbformat": 4
 },
 "nbformat": 4,
 "nbformat_minor": 2
}
